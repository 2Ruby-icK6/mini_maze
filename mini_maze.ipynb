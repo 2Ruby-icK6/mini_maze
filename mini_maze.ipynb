{
 "cells": [
  {
   "cell_type": "markdown",
   "metadata": {},
   "source": [
    "# Mini Maze\n",
    "### Group kamekazee\n",
    "Rovick Anthony Pasamonte<br>\n",
    "Zaj Kenneth Panes<br>\n",
    "Maui Azryl Lomuntad<br>\n",
    "Arvin Clark Lota"
   ]
  },
  {
   "cell_type": "code",
   "execution_count": 12,
   "metadata": {},
   "outputs": [],
   "source": [
    "import heapq\n",
    "from collections import deque\n",
    "import matplotlib.pyplot as plt\n",
    "import numpy as np"
   ]
  },
  {
   "cell_type": "markdown",
   "metadata": {},
   "source": [
    "### Helper functions for pathfinding algorithms"
   ]
  },
  {
   "cell_type": "code",
   "execution_count": 13,
   "metadata": {},
   "outputs": [],
   "source": [
    "def get_neighbors(position, maze):\n",
    "    row, col = position\n",
    "    directions = [(-1, 0), (1, 0), (0, -1), (0, 1)]\n",
    "    neighbors = []\n",
    "    for dr, dc in directions:\n",
    "        r, c = row + dr, col + dc\n",
    "        if 0 <= r < len(maze) and 0 <= c < len(maze[0]) and maze[r][c] != 1:\n",
    "            neighbors.append((r, c))\n",
    "    return neighbors\n",
    "\n",
    "def reconstruct_path(parents, start, end):\n",
    "    path = []\n",
    "    current = end\n",
    "    while current is not None:\n",
    "        path.append(current)\n",
    "        current = parents[current]\n",
    "    return path[::-1]  # Reverse the path to start from the beginning\n",
    "\n",
    "def manhattan_distance(a, b):\n",
    "    return abs(a[0] - b[0]) + abs(a[1] - b[1])"
   ]
  },
  {
   "cell_type": "markdown",
   "metadata": {},
   "source": [
    "### Breadth First Search"
   ]
  },
  {
   "cell_type": "code",
   "execution_count": 14,
   "metadata": {},
   "outputs": [],
   "source": [
    "def bfs(maze, start, end):\n",
    "    queue = deque([start])\n",
    "    visited = set([start])\n",
    "    parents = {start: None}\n",
    "\n",
    "    while queue:\n",
    "        current = queue.popleft()\n",
    "\n",
    "        if current == end:\n",
    "            return reconstruct_path(parents, start, end)\n",
    "\n",
    "        for neighbor in get_neighbors(current, maze):\n",
    "            if neighbor not in visited:\n",
    "                visited.add(neighbor)\n",
    "                parents[neighbor] = current\n",
    "                queue.append(neighbor)\n",
    "    return None"
   ]
  },
  {
   "cell_type": "markdown",
   "metadata": {},
   "source": [
    "### Depth First Search"
   ]
  },
  {
   "cell_type": "code",
   "execution_count": 15,
   "metadata": {},
   "outputs": [],
   "source": [
    "def dfs(maze, start, end):\n",
    "    stack = [start]\n",
    "    visited = set([start])\n",
    "    parents = {start: None}\n",
    "\n",
    "    while stack:\n",
    "        current = stack.pop()\n",
    "\n",
    "        if current == end:\n",
    "            return reconstruct_path(parents, start, end)\n",
    "\n",
    "        for neighbor in get_neighbors(current, maze):\n",
    "            if neighbor not in visited:\n",
    "                visited.add(neighbor)\n",
    "                parents[neighbor] = current\n",
    "                stack.append(neighbor)\n",
    "    return None\n"
   ]
  },
  {
   "cell_type": "markdown",
   "metadata": {},
   "source": [
    "### Heuristic A* Algorithms"
   ]
  },
  {
   "cell_type": "code",
   "execution_count": 16,
   "metadata": {},
   "outputs": [],
   "source": [
    "def a_star(maze, start, end):\n",
    "    open_list = []\n",
    "    heapq.heappush(open_list, (0, start))\n",
    "    g_cost = {start: 0}\n",
    "    parents = {start: None}\n",
    "\n",
    "    while open_list:\n",
    "        _, current = heapq.heappop(open_list)\n",
    "\n",
    "        if current == end:\n",
    "            return reconstruct_path(parents, start, end)\n",
    "\n",
    "        for neighbor in get_neighbors(current, maze):\n",
    "            tentative_g_cost = g_cost[current] + 1 \n",
    "\n",
    "            if neighbor not in g_cost or tentative_g_cost < g_cost[neighbor]:\n",
    "                g_cost[neighbor] = tentative_g_cost\n",
    "                f_cost = tentative_g_cost + manhattan_distance(neighbor, end)\n",
    "                heapq.heappush(open_list, (f_cost, neighbor))\n",
    "                parents[neighbor] = current\n",
    "    return None"
   ]
  },
  {
   "cell_type": "code",
   "execution_count": 17,
   "metadata": {},
   "outputs": [],
   "source": [
    "def visualize_maze(maze, path=None, start=None, end=None, title=\"Maze\"):\n",
    "    maze = np.array([[1 if cell == 1 else 0 for cell in row] for row in maze])\n",
    "    plt.figure(figsize=(6, 6))\n",
    "    plt.imshow(maze, cmap='binary', origin='upper')\n",
    "\n",
    "    # Highlight start and end points\n",
    "    if start:\n",
    "        plt.plot(start[1], start[0], 'go', label=\"Start\")  # Green for start\n",
    "    if end:\n",
    "        plt.plot(end[1], end[0], 'bo', label=\"End\")  # Blue for end\n",
    "\n",
    "    # Plot the path\n",
    "    if path:\n",
    "        path = np.array(path)\n",
    "        plt.plot(path[:, 1], path[:, 0], marker='o', color='red', label=\"Path\")  # Red for path\n",
    "\n",
    "    plt.title(title)\n",
    "    plt.grid(True)\n",
    "    plt.xticks([])  # Remove x ticks\n",
    "    plt.yticks([])  # Remove y ticks\n",
    "    plt.legend()\n",
    "    plt.show()"
   ]
  },
  {
   "cell_type": "code",
   "execution_count": 18,
   "metadata": {},
   "outputs": [
    {
     "data": {
      "image/png": "[encoded data removed]",
      "text/plain": [
       "<Figure size 600x600 with 1 Axes>"
      ]
     },
     "metadata": {},
     "output_type": "display_data"
    }
   ],
   "source": [
    "maze = [\n",
    "    [\"#\", 1, 0, 0, 0],\n",
    "    [0, 1, 0, 1, 0],\n",
    "    [0, 0, 0, 1, 0],\n",
    "    [1, 1, 0, 1, 0],\n",
    "    [0, 0, 0, 0, \"*\"]\n",
    "]\n",
    "start = (0, 0)\n",
    "end = (4, 4)\n",
    "\n",
    "# Find paths using BFS, DFS, and A* algorithms\n",
    "bfs_path = bfs(maze, start, end)\n",
    "dfs_path = dfs(maze, start, end)\n",
    "a_star_path = a_star(maze, start, end)\n",
    "\n",
    "visualize_maze(maze, start=start, end=end, title=\"Original Maze\")"
   ]
  },
  {
   "cell_type": "markdown",
   "metadata": {},
   "source": [
    "### Visualize BFS path"
   ]
  },
  {
   "cell_type": "code",
   "execution_count": 19,
   "metadata": {},
   "outputs": [
    {
     "name": "stdout",
     "output_type": "stream",
     "text": [
      "BFS path: [(0, 0), (1, 0), (2, 0), (2, 1), (2, 2), (3, 2), (4, 2), (4, 3), (4, 4)]\n"
     ]
    },
    {
     "data": {
      "image/png": "[encoded data removed]",
      "text/plain": [
       "<Figure size 600x600 with 1 Axes>"
      ]
     },
     "metadata": {},
     "output_type": "display_data"
    }
   ],
   "source": [
    "if bfs_path:\n",
    "    print(\"BFS path:\", bfs_path)\n",
    "    visualize_maze(maze, path=bfs_path, start=start, end=end, title=\"BFS Path\")\n",
    "else:\n",
    "    print(\"No BFS path found.\")"
   ]
  },
  {
   "cell_type": "markdown",
   "metadata": {},
   "source": [
    "### Visualize DFS path"
   ]
  },
  {
   "cell_type": "code",
   "execution_count": 20,
   "metadata": {},
   "outputs": [
    {
     "name": "stdout",
     "output_type": "stream",
     "text": [
      "DFS path: [(0, 0), (1, 0), (2, 0), (2, 1), (2, 2), (3, 2), (4, 2), (4, 3), (4, 4)]\n"
     ]
    },
    {
     "data": {
      "image/png": "[encoded data removed]",
      "text/plain": [
       "<Figure size 600x600 with 1 Axes>"
      ]
     },
     "metadata": {},
     "output_type": "display_data"
    }
   ],
   "source": [
    "if dfs_path:\n",
    "    print(\"DFS path:\", dfs_path)\n",
    "    visualize_maze(maze, path=dfs_path, start=start, end=end, title=\"DFS Path\")\n",
    "else:\n",
    "    print(\"No DFS path found.\")\n"
   ]
  },
  {
   "cell_type": "markdown",
   "metadata": {},
   "source": [
    "### Visualize A* path"
   ]
  },
  {
   "cell_type": "code",
   "execution_count": 21,
   "metadata": {},
   "outputs": [
    {
     "name": "stdout",
     "output_type": "stream",
     "text": [
      "A* path: [(0, 0), (1, 0), (2, 0), (2, 1), (2, 2), (3, 2), (4, 2), (4, 3), (4, 4)]\n"
     ]
    },
    {
     "data": {
      "image/png": "[encoded data removed]",
      "text/plain": [
       "<Figure size 600x600 with 1 Axes>"
      ]
     },
     "metadata": {},
     "output_type": "display_data"
    }
   ],
   "source": [
    "if a_star_path:\n",
    "    print(\"A* path:\", a_star_path)\n",
    "    visualize_maze(maze, path=a_star_path, start=start, end=end, title=\"A* Path\")\n",
    "else:\n",
    "    print(\"No A* path found.\")"
   ]
  }
 ],
 "metadata": {
  "kernelspec": {
   "display_name": "venv",
   "language": "python",
   "name": "python3"
  },
  "language_info": {
   "codemirror_mode": {
    "name": "ipython",
    "version": 3
   },
   "file_extension": ".py",
   "mimetype": "text/x-python",
   "name": "python",
   "nbconvert_exporter": "python",
   "pygments_lexer": "ipython3",
   "version": "3.11.5"
  }
 },
 "nbformat": 4,
 "nbformat_minor": 2
}
