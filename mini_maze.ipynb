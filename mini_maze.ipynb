{
 "cells": [
  {
   "cell_type": "markdown",
   "metadata": {},
   "source": [
    "# Mini Maze\n",
    "### Group kamekazee\n",
    "Rovick Anthony Pasamonte<br>\n",
    "Zaj Kenneth Panes<br>\n",
    "Maui Azryl Lomuntad<br>\n",
    "Arvin Clark Lota"
   ]
  },
  {
   "cell_type": "code",
   "execution_count": 8,
   "metadata": {},
   "outputs": [],
   "source": [
    "import heapq\n",
    "from collections import deque\n",
    "import matplotlib.pyplot as plt\n",
    "import numpy as np\n",
    "import tkinter as tk\n",
    "from tkinter import messagebox"
   ]
  },
  {
   "cell_type": "markdown",
   "metadata": {},
   "source": [
    "### Helper functions for pathfinding algorithms"
   ]
  },
  {
   "cell_type": "code",
   "execution_count": 9,
   "metadata": {},
   "outputs": [],
   "source": [
    "def get_neighbors(position, maze):\n",
    "    row, col = position\n",
    "    directions = [(-1, 0), (1, 0), (0, -1), (0, 1)]\n",
    "    neighbors = []\n",
    "    for dr, dc in directions:\n",
    "        r, c = row + dr, col + dc\n",
    "        if 0 <= r < len(maze) and 0 <= c < len(maze[0]) and maze[r][c] != 1:\n",
    "            neighbors.append((r, c))\n",
    "    return neighbors\n",
    "\n",
    "def reconstruct_path(parents, start, end):\n",
    "    path = []\n",
    "    current = end\n",
    "    while current is not None:\n",
    "        path.append(current)\n",
    "        current = parents[current]\n",
    "    return path[::-1]  # Reverse the path to start from the beginning\n",
    "\n",
    "def manhattan_distance(a, b):\n",
    "    return abs(a[0] - b[0]) + abs(a[1] - b[1])"
   ]
  },
  {
   "cell_type": "markdown",
   "metadata": {},
   "source": [
    "### Breadth First Search"
   ]
  },
  {
   "cell_type": "code",
   "execution_count": 10,
   "metadata": {},
   "outputs": [],
   "source": [
    "def bfs(maze, start, end):\n",
    "    queue = deque([start])\n",
    "    visited = set([start])\n",
    "    parents = {start: None}\n",
    "\n",
    "    while queue:\n",
    "        current = queue.popleft()\n",
    "\n",
    "        if current == end:\n",
    "            return reconstruct_path(parents, start, end)\n",
    "\n",
    "        for neighbor in get_neighbors(current, maze):\n",
    "            if neighbor not in visited:\n",
    "                visited.add(neighbor)\n",
    "                parents[neighbor] = current\n",
    "                queue.append(neighbor)\n",
    "    return None"
   ]
  },
  {
   "cell_type": "markdown",
   "metadata": {},
   "source": [
    "### Depth First Search"
   ]
  },
  {
   "cell_type": "code",
   "execution_count": 11,
   "metadata": {},
   "outputs": [],
   "source": [
    "def dfs(maze, start, end):\n",
    "    stack = [start]\n",
    "    visited = set([start])\n",
    "    parents = {start: None}\n",
    "\n",
    "    while stack:\n",
    "        current = stack.pop()\n",
    "\n",
    "        if current == end:\n",
    "            return reconstruct_path(parents, start, end)\n",
    "\n",
    "        for neighbor in get_neighbors(current, maze):\n",
    "            if neighbor not in visited:\n",
    "                visited.add(neighbor)\n",
    "                parents[neighbor] = current\n",
    "                stack.append(neighbor)\n",
    "    return None\n"
   ]
  },
  {
   "cell_type": "markdown",
   "metadata": {},
   "source": [
    "### Heuristic A* Algorithms"
   ]
  },
  {
   "cell_type": "code",
   "execution_count": 12,
   "metadata": {},
   "outputs": [],
   "source": [
    "def a_star(maze, start, end):\n",
    "    open_list = []\n",
    "    heapq.heappush(open_list, (0, start))\n",
    "    g_cost = {start: 0}\n",
    "    parents = {start: None}\n",
    "\n",
    "    while open_list:\n",
    "        _, current = heapq.heappop(open_list)\n",
    "\n",
    "        if current == end:\n",
    "            return reconstruct_path(parents, start, end)\n",
    "\n",
    "        for neighbor in get_neighbors(current, maze):\n",
    "            tentative_g_cost = g_cost[current] + 1 \n",
    "\n",
    "            if neighbor not in g_cost or tentative_g_cost < g_cost[neighbor]:\n",
    "                g_cost[neighbor] = tentative_g_cost\n",
    "                f_cost = tentative_g_cost + manhattan_distance(neighbor, end)\n",
    "                heapq.heappush(open_list, (f_cost, neighbor))\n",
    "                parents[neighbor] = current\n",
    "    return None"
   ]
  },
  {
   "cell_type": "markdown",
   "metadata": {},
   "source": [
    "### Visualization function using matplotlib"
   ]
  },
  {
   "cell_type": "code",
   "execution_count": 13,
   "metadata": {},
   "outputs": [],
   "source": [
    "def visualize_maze(maze, path=None, start=None, end=None, title=\"Maze\"):\n",
    "    maze = np.array([[1 if cell == 1 else 0 for cell in row] for row in maze])\n",
    "    plt.figure(figsize=(6, 6))\n",
    "    plt.imshow(maze, cmap='binary', origin='upper')\n",
    "\n",
    "    # Highlight start and end points\n",
    "    if start:\n",
    "        plt.plot(start[1], start[0], 'go', label=\"Start\")  # Green for start\n",
    "    if end:\n",
    "        plt.plot(end[1], end[0], 'bo', label=\"End\")  # Blue for end\n",
    "\n",
    "    # Plot the path\n",
    "    if path:\n",
    "        path = np.array(path)\n",
    "        plt.plot(path[:, 1], path[:, 0], marker='o', color='red', label=\"Path\")  # Red for path\n",
    "\n",
    "    plt.title(title)\n",
    "    plt.grid(True)\n",
    "    plt.xticks([])  # Remove x ticks\n",
    "    plt.yticks([])  # Remove y ticks\n",
    "    plt.legend()\n",
    "    plt.show()"
   ]
  },
  {
   "cell_type": "markdown",
   "metadata": {},
   "source": [
    "### GUI / Application"
   ]
  },
  {
   "cell_type": "code",
   "execution_count": 14,
   "metadata": {},
   "outputs": [],
   "source": [
    "class PathfindingApp:\n",
    "    def __init__(self, root):\n",
    "        self.root = root\n",
    "        self.root.title(\"Maze Pathfinding\")\n",
    "\n",
    "        self.rows_label = tk.Label(root, text=\"Rows:\", font=(\"Arial\", 12, \"bold\"))\n",
    "        self.rows_label.grid(row=0, column=0)\n",
    "        self.rows_entry = tk.Entry(root)\n",
    "        self.rows_entry.grid(row=0, column=1)\n",
    "\n",
    "        self.cols_label = tk.Label(root, text=\"Columns:\", font=(\"Arial\", 12, \"bold\"))\n",
    "        self.cols_label.grid(row=1, column=0)\n",
    "        self.cols_entry = tk.Entry(root)\n",
    "        self.cols_entry.grid(row=1, column=1)\n",
    "\n",
    "        self.generate_button = tk.Button(root, text=\"Generate Maze\", command=self.generate_maze)\n",
    "        self.generate_button.grid(row=2, column=0, columnspan=2)\n",
    "\n",
    "        self.maze_label = tk.Label(root, text=\"Maze Layout (Editable):\")\n",
    "        self.maze_label.grid(row=3, column=0, columnspan=2)\n",
    "\n",
    "        self.maze_text = tk.Text(root, height=10, width=30)\n",
    "        self.maze_text.grid(row=4, column=0, columnspan=2)\n",
    "\n",
    "        self.preview_button = tk.Button(root, text=\"Preview Maze\", command=self.preview_maze)\n",
    "        self.preview_button.grid(row=5, column=0, columnspan=2)\n",
    "\n",
    "        self.algorithm_label = tk.Label(root, text=\"Algorithm:\")\n",
    "        self.algorithm_label.grid(row=7, column=0)\n",
    "        self.algorithm_choice = tk.StringVar()\n",
    "        self.algorithm_choice.set(\"BFS\")\n",
    "        self.algorithm_menu = tk.OptionMenu(root, self.algorithm_choice, \"BFS\", \"DFS\", \"A*\")\n",
    "        self.algorithm_menu.grid(row=7, column=1)\n",
    "\n",
    "        self.run_button = tk.Button(root, text=\"Run\", command=self.run_algorithm)\n",
    "        self.run_button.grid(row=8, column=0, columnspan=2)\n",
    "\n",
    "    def generate_maze(self):\n",
    "        try:\n",
    "            rows = int(self.rows_entry.get())\n",
    "            cols = int(self.cols_entry.get())\n",
    "            if rows <= 0 or cols <= 0:\n",
    "                raise ValueError(\"Rows and columns must be positive integers.\")\n",
    "\n",
    "            # Automatically generate a default maze with all 0s (open spaces)\n",
    "            maze = [[0] * cols for _ in range(rows)]\n",
    "            # Mark the start and end points\n",
    "            maze[0][0] = \"#\"  # Start point\n",
    "            maze[rows - 1][cols - 1] = \"*\"  # End point\n",
    "\n",
    "            # Display the generated maze in the text area (editable)\n",
    "            self.maze_text.delete(\"1.0\", tk.END)\n",
    "            for row in maze:\n",
    "                self.maze_text.insert(tk.END, \" \".join(map(str, row)) + \"\\n\")\n",
    "        except ValueError as e:\n",
    "            messagebox.showerror(\"Input Error\", str(e))\n",
    "\n",
    "    def get_maze_from_input(self):\n",
    "        try:\n",
    "            rows = int(self.rows_entry.get())\n",
    "            cols = int(self.cols_entry.get())\n",
    "            maze = []\n",
    "\n",
    "            maze_input = self.maze_text.get(\"1.0\", tk.END).strip().split(\"\\n\")\n",
    "            for line in maze_input:\n",
    "                row = []\n",
    "                for char in line.split():\n",
    "                    if char == \"#\":\n",
    "                        row.append(0)  # Treat start as open space (0)\n",
    "                        start = (len(maze), len(row) - 1)\n",
    "                    elif char == \"*\":\n",
    "                        row.append(0)  # Treat end as open space (0)\n",
    "                        end = (len(maze), len(row) - 1)\n",
    "                    else:\n",
    "                        row.append(int(char))\n",
    "                if len(row) != cols:\n",
    "                    raise ValueError(f\"Each row must have {cols} columns.\")\n",
    "                maze.append(row)\n",
    "\n",
    "            return maze, start, end\n",
    "        except ValueError as e:\n",
    "            messagebox.showerror(\"Input Error\", str(e))\n",
    "            return None, None, None\n",
    "\n",
    "    def preview_maze(self):\n",
    "        maze, start, end = self.get_maze_from_input()\n",
    "        if maze is None:\n",
    "            return\n",
    "        visualize_maze(maze, start=start, end=end, title=\"Preview Maze\")\n",
    "\n",
    "    def run_algorithm(self):\n",
    "        maze, start, end = self.get_maze_from_input()\n",
    "        if maze is None:\n",
    "            return\n",
    "\n",
    "        algorithm = self.algorithm_choice.get()\n",
    "        path = None\n",
    "\n",
    "        if algorithm == \"BFS\":\n",
    "            path = bfs(maze, start, end)\n",
    "            algo_name = \"BFS\"\n",
    "        elif algorithm == \"DFS\":\n",
    "            path = dfs(maze, start, end)\n",
    "            algo_name = \"DFS\"\n",
    "        elif algorithm == \"A*\":\n",
    "            path = a_star(maze, start, end)\n",
    "            algo_name = \"A*\"\n",
    "\n",
    "        if path:\n",
    "            visualize_maze(maze, path=path, start=start, end=end, title=f\"{algo_name} Path\")\n",
    "        else:\n",
    "            messagebox.showinfo(\"Result\", f\"No path found using {algo_name}.\")"
   ]
  },
  {
   "cell_type": "code",
   "execution_count": 15,
   "metadata": {},
   "outputs": [
    {
     "data": {
      "image/png": "[encoded data removed]",
      "text/plain": [
       "<Figure size 600x600 with 1 Axes>"
      ]
     },
     "metadata": {},
     "output_type": "display_data"
    },
    {
     "data": {
      "image/png": "[encoded data removed]",
      "text/plain": [
       "<Figure size 600x600 with 1 Axes>"
      ]
     },
     "metadata": {},
     "output_type": "display_data"
    },
    {
     "data": {
      "image/png": "[encoded data removed]",
      "text/plain": [
       "<Figure size 600x600 with 1 Axes>"
      ]
     },
     "metadata": {},
     "output_type": "display_data"
    },
    {
     "data": {
      "image/png": "[encoded data removed]",
      "text/plain": [
       "<Figure size 600x600 with 1 Axes>"
      ]
     },
     "metadata": {},
     "output_type": "display_data"
    },
    {
     "data": {
      "image/png": "[encoded data removed]",
      "text/plain": [
       "<Figure size 600x600 with 1 Axes>"
      ]
     },
     "metadata": {},
     "output_type": "display_data"
    },
    {
     "data": {
      "image/png": "[encoded data removed]",
      "text/plain": [
       "<Figure size 600x600 with 1 Axes>"
      ]
     },
     "metadata": {},
     "output_type": "display_data"
    }
   ],
   "source": [
    "if __name__ == \"__main__\":\n",
    "    root = tk.Tk()\n",
    "    app = PathfindingApp(root)\n",
    "    root.mainloop()"
   ]
  }
 ],
 "metadata": {
  "kernelspec": {
   "display_name": "venv",
   "language": "python",
   "name": "python3"
  },
  "language_info": {
   "codemirror_mode": {
    "name": "ipython",
    "version": 3
   },
   "file_extension": ".py",
   "mimetype": "text/x-python",
   "name": "python",
   "nbconvert_exporter": "python",
   "pygments_lexer": "ipython3",
   "version": "3.11.5"
  }
 },
 "nbformat": 4,
 "nbformat_minor": 2
}
